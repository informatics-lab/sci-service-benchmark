{
 "cells": [
  {
   "cell_type": "code",
   "execution_count": 7,
   "metadata": {
    "collapsed": false
   },
   "outputs": [
    {
     "data": {
      "text/plain": [
       "[]"
      ]
     },
     "execution_count": 7,
     "metadata": {},
     "output_type": "execute_result"
    }
   ],
   "source": [
    "!!s3fs mogreps-g /usr/local/share/notebooks/data/mogreps-g -o iam_role=jade-secrets"
   ]
  },
  {
   "cell_type": "code",
   "execution_count": 14,
   "metadata": {
    "collapsed": false
   },
   "outputs": [
    {
     "data": {
      "text/plain": [
       "['[NbConvertApp] Converting notebook monthly_climate.ipynb to script',\n",
       " '[NbConvertApp] Writing 4051 bytes to monthly_climate.py']"
      ]
     },
     "execution_count": 14,
     "metadata": {},
     "output_type": "execute_result"
    }
   ],
   "source": [
    "!!jupyter nbconvert --to script monthly_climate.ipynb"
   ]
  },
  {
   "cell_type": "code",
   "execution_count": 12,
   "metadata": {
    "collapsed": false
   },
   "outputs": [],
   "source": [
    "import iris\n",
    "import os\n",
    "import datetime\n",
    "import numpy as np\n",
    "import sys\n",
    "import os\n",
    "import datetime"
   ]
  },
  {
   "cell_type": "code",
   "execution_count": 2,
   "metadata": {
    "collapsed": true
   },
   "outputs": [],
   "source": [
    "# Remove this line if not running in notebook.\n",
    "sys.argv = ['monthly_climate.py', '12', 'B', '/usr/local/share/notebooks/data/mogreps-g/201612/']"
   ]
  },
  {
   "cell_type": "code",
   "execution_count": 3,
   "metadata": {
    "collapsed": false
   },
   "outputs": [],
   "source": [
    "try:\n",
    "    month = int(sys.argv[1])\n",
    "    assert month in range(1,13)\n",
    "except Exception:\n",
    "    print('Arg 1 must be a month range 1-12.')\n",
    "    \n",
    "    \n",
    "try:\n",
    "    region_name = sys.argv[2]\n",
    "    assert region_name in ['A','B','C','D']\n",
    "except Exception:\n",
    "    print('Arg 2 must be a refion A, B, C or D.')\n",
    "    \n",
    "    \n",
    "    \n",
    "try:\n",
    "    dir_path = sys.argv[3]\n",
    "    assert os.path.exists(dir_path)\n",
    "except Exception:\n",
    "    print('Expect two args, fist a integer month (1-12) second region A, B, C or D.')\n"
   ]
  },
  {
   "cell_type": "code",
   "execution_count": null,
   "metadata": {
    "collapsed": true
   },
   "outputs": [],
   "source": [
    "lat_con = iris.Constraint(latitude = lambda x : x >= 0)\n",
    "lon_con = iris.Constraint(longitude = lambda x : x >= 180)\n",
    "not_lat_con = iris.Constraint(latitude = lambda x : x < 0)\n",
    "not_lon_con = iris.Constraint(longitude = lambda x : x < 180)\n",
    "\n",
    "regions = {'A':lat_con & lon_con,\n",
    "           'B':lat_con & not_lon_con,\n",
    "           'C':not_lat_con & lon_con,\n",
    "           'D':not_lat_con & not_lon_con\n",
    "          }\n",
    "\n",
    "def file_valid_time(file):\n",
    "    #     filename_template = 'prods_op_'+MODEL+'_{date}_{run}_{member}_{lead_time}.pp'\n",
    "    _, _, _, date, run, member, lead_time = os.path.basename(file).split('.')[0].split(\"_\")\n",
    "    run_date = datetime.datetime(\n",
    "        int(date[:4]),\n",
    "        int(date[4:6]),\n",
    "        int(date[6:8])) \n",
    "    valid_time = run_date + datetime.timedelta(hours=int(lead_time)) +  datetime.timedelta(hours=int(run))\n",
    "    return valid_time\n",
    "\n",
    "def month_in_file(month, file):\n",
    "    return file_valid_time(file).month == month\n",
    "        \n",
    "def load_stash_for_time_and_region(file, stash, region):\n",
    "    valid_time_in_hours = file_valid_time(file).timestamp() / (60 * 60)\n",
    "    \n",
    "    return iris.load(file, \n",
    "                     iris.AttributeConstraint(STASH=stash) &\n",
    "                     region &\n",
    "                     iris.Constraint(time=lambda t: valid_time_in_hours - 0.1 < t < valid_time_in_hours + 0.1 ))\n",
    "\n",
    "\n",
    "def average_for_month_and_region(month, region, stash, files):\n",
    "    print('start month:%s, region:%s, stash:%s' % (month, region, stash))\n",
    "    data_levels = {}\n",
    "    for cubes in (load_stash_for_time_and_region(f, stash, region) for f in files if month_in_file(month, f)):\n",
    "        print('Start processing a cube')\n",
    "        for cube in cubes:\n",
    "            for level_slice in cube.slices(['latitude', 'longitude']):\n",
    "                level = level_slice.coord('pressure').points[0]\n",
    "                level_stats = data_levels.get(level, None)\n",
    "                if not level_stats:\n",
    "                    aggregated_cube = level_slice\n",
    "                    count = 1\n",
    "                else:\n",
    "                    aggregated_cube = level_stats['cube'] + level_slice\n",
    "                    count = level_stats['count'] + 1\n",
    "                data_levels[level] = {\n",
    "                    'cube':aggregated_cube,\n",
    "                    'count':count\n",
    "                }\n",
    "            print('Done a cube')\n",
    "    \n",
    "    print('Create averages')\n",
    "    results = []\n",
    "    for level, stats in data_levels.items():\n",
    "        print('for level %s we have %s slices' % (level, stats['count']))\n",
    "        results.append(stats['cube'] / stats['count'])\n",
    "        \n",
    "    return results"
   ]
  },
  {
   "cell_type": "code",
   "execution_count": 13,
   "metadata": {
    "collapsed": false
   },
   "outputs": [
    {
     "name": "stdout",
     "output_type": "stream",
     "text": [
      "Starting at %s 2017-03-16 12:02:09.482634\n",
      "596 files to process in dir /usr/local/share/notebooks/data/mogreps-g/201612/\n",
      "start month:12, region:ConstraintCombination(Constraint(coord_values={'latitude': <function <lambda> at 0x7f66e985fea0>}), Constraint(coord_values={'longitude': <function <lambda> at 0x7f66e985fae8>}), <built-in function and_>), stash:m01s16i203\n",
      "Start processing a cube\n",
      "Done a cube\n",
      "Create averages\n",
      "for level 100.0 we have 1 slices\n",
      "for level 230.0 we have 1 slices\n",
      "for level 200.0 we have 1 slices\n",
      "for level 300.0 we have 1 slices\n",
      "for level 270.0 we have 1 slices\n",
      "for level 400.0 we have 1 slices\n",
      "for level 1000.0 we have 1 slices\n",
      "for level 850.0 we have 1 slices\n",
      "for level 180.0 we have 1 slices\n",
      "for level 150.0 we have 1 slices\n",
      "for level 600.0 we have 1 slices\n",
      "for level 500.0 we have 1 slices\n",
      "for level 250.0 we have 1 slices\n",
      "for level 700.0 we have 1 slices\n",
      "for level 925.0 we have 1 slices\n",
      "for level 350.0 we have 1 slices\n"
     ]
    },
    {
     "name": "stderr",
     "output_type": "stream",
     "text": [
      "/opt/conda/lib/python3.5/site-packages/iris/fileformats/netcdf.py:2026: IrisDeprecation: NetCDF default saving behaviour currently assigns the outermost dimensions to unlimited. This behaviour is to be deprecated, in favour of no automatic assignment. To switch to the new behaviour, set iris.FUTURE.netcdf_no_unlimited to True.\n",
      "  warn_deprecated(msg)\n"
     ]
    },
    {
     "name": "stdout",
     "output_type": "stream",
     "text": [
      "Saved ava_tem_plevel_100_B.nc\n",
      "Saved ava_tem_plevel_230_B.nc\n",
      "Saved ava_tem_plevel_200_B.nc\n",
      "Saved ava_tem_plevel_300_B.nc\n",
      "Saved ava_tem_plevel_270_B.nc\n",
      "Saved ava_tem_plevel_400_B.nc\n",
      "Saved ava_tem_plevel_1000_B.nc\n",
      "Saved ava_tem_plevel_850_B.nc\n",
      "Saved ava_tem_plevel_180_B.nc\n",
      "Saved ava_tem_plevel_150_B.nc\n",
      "Saved ava_tem_plevel_600_B.nc\n",
      "Saved ava_tem_plevel_500_B.nc\n",
      "Saved ava_tem_plevel_250_B.nc\n",
      "Saved ava_tem_plevel_700_B.nc\n",
      "Saved ava_tem_plevel_925_B.nc\n",
      "Saved ava_tem_plevel_350_B.nc\n",
      "Finished in 0:00:21.173828\n"
     ]
    }
   ],
   "source": [
    "# Run this thing....\n",
    "start_time = datetime.datetime.now()\n",
    "\n",
    "print(\"Starting at %s\", start_time)\n",
    "\n",
    "files = [os.path.join(dir_path, f) for f in os.listdir(dir_path)]\n",
    "print(\"%d files to process in dir %s\" % (len(files), dir_path))\n",
    "\n",
    "avgs = average_for_month_and_region(month,\n",
    "                                    regions[region_name],\n",
    "                                    'm01s16i203',\n",
    "                                    files[:1])\n",
    "\n",
    "for c in avgs:\n",
    "    name = \"ava_tem_plevel_%d_%s.nc\" % (c.coord('pressure').points[0], region_name)\n",
    "    iris.save(c, name)\n",
    "    print(\"Saved %s\" % name)\n",
    "    \n",
    "time_taken = datetime.datetime.now() - start_time\n",
    "print(\"Finished in %s\" % (time_taken))"
   ]
  },
  {
   "cell_type": "code",
   "execution_count": null,
   "metadata": {
    "collapsed": true
   },
   "outputs": [],
   "source": []
  }
 ],
 "metadata": {
  "kernelspec": {
   "display_name": "Python 3",
   "language": "python",
   "name": "python3"
  },
  "language_info": {
   "codemirror_mode": {
    "name": "ipython",
    "version": 3
   },
   "file_extension": ".py",
   "mimetype": "text/x-python",
   "name": "python",
   "nbconvert_exporter": "python",
   "pygments_lexer": "ipython3",
   "version": "3.5.2"
  }
 },
 "nbformat": 4,
 "nbformat_minor": 2
}
